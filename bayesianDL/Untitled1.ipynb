{
 "cells": [
  {
   "cell_type": "code",
   "execution_count": 2,
   "metadata": {},
   "outputs": [
    {
     "ename": "ModuleNotFoundError",
     "evalue": "No module named 'pymc3'",
     "output_type": "error",
     "traceback": [
      "\u001b[0;31m---------------------------------------------------------------------------\u001b[0m",
      "\u001b[0;31mModuleNotFoundError\u001b[0m                       Traceback (most recent call last)",
      "\u001b[0;32m<ipython-input-2-aed959c50219>\u001b[0m in \u001b[0;36m<module>\u001b[0;34m\u001b[0m\n\u001b[0;32m----> 1\u001b[0;31m \u001b[0;32mimport\u001b[0m \u001b[0mpymc3\u001b[0m \u001b[0;32mas\u001b[0m \u001b[0mpm\u001b[0m\u001b[0;34m\u001b[0m\u001b[0;34m\u001b[0m\u001b[0m\n\u001b[0m\u001b[1;32m      2\u001b[0m \u001b[0;34m\u001b[0m\u001b[0m\n\u001b[1;32m      3\u001b[0m \u001b[0mBILLION\u001b[0m \u001b[0;34m=\u001b[0m \u001b[0;36m1e9\u001b[0m\u001b[0;34m\u001b[0m\u001b[0;34m\u001b[0m\u001b[0m\n\u001b[1;32m      4\u001b[0m \u001b[0mTOTAL_SQUARES\u001b[0m \u001b[0;34m=\u001b[0m \u001b[0;36m25\u001b[0m\u001b[0;34m\u001b[0m\u001b[0;34m\u001b[0m\u001b[0m\n\u001b[1;32m      5\u001b[0m \u001b[0;34m\u001b[0m\u001b[0m\n",
      "\u001b[0;31mModuleNotFoundError\u001b[0m: No module named 'pymc3'"
     ]
    }
   ],
   "source": [
    "import pymc3 as pm\n",
    "\n",
    "BILLION = 1e9\n",
    "TOTAL_SQUARES = 25\n",
    "\n",
    "squares_counted = 5\n",
    "yeast_counted = 49\n",
    "\n",
    "with pm.Model() as model:\n",
    "    yeast_conc = pm.Normal(\"cells/mL\", mu=2 * BILLION, sd=0.4 * BILLION)\n",
    "\n",
    "    shaker1_volume = pm.Normal(\"shaker1 volume (mL)\", mu=9.0, sd=0.05)\n",
    "    shaker2_volume = pm.Normal(\"shaker2 volume (mL)\", mu=9.0, sd=0.05)\n",
    "    shaker3_volume = pm.Normal(\"shaker3 volume (mL)\", mu=9.0, sd=0.05)\n",
    "\n",
    "    yeast_slurry_volume = pm.Normal(\"initial yeast slurry volume (mL)\", mu=1.0, sd=0.01)\n",
    "    shaker1_to_shaker2_volume =    pm.Normal(\"shaker1 to shaker2 (mL)\", mu=1.0, sd=0.01)\n",
    "    shaker2_to_shaker3_volume =    pm.Normal(\"shaker2 to shaker3 (mL)\", mu=1.0, sd=0.01)\n",
    "\n",
    "    dilution_shaker1 = yeast_slurry_volume       / (yeast_slurry_volume + shaker1_volume)\n",
    "    dilution_shaker2 = shaker1_to_shaker2_volume / (shaker1_to_shaker2_volume + shaker2_volume)\n",
    "    dilution_shaker3 = shaker2_to_shaker3_volume / (shaker2_to_shaker3_volume + shaker3_volume)\n",
    "    final_dilution_factor = dilution_shaker1 * dilution_shaker2 * dilution_shaker3\n",
    "\n",
    "    volume_of_chamber = pm.Gamma(\"volume of chamber (mL)\", mu=0.0001, sd=0.0001 / 20)\n",
    "\n",
    "    # why is Poisson justified? in my final shaker, I have yeast_conc * final_dilution_factor * shaker3_volume number of yeast\n",
    "    # I remove volume_of_chamber / shaker3_volume fraction of them, hence it's a binomial with very high count, and very low probability.\n",
    "    yeast_visible = pm.Poisson(\"cells in visible portion\", mu=yeast_conc * final_dilution_factor * volume_of_chamber)\n",
    "\n",
    "    number_of_counted_cells = pm.Binomial(\"number of counted cells\", yeast_visible, squares_counted/TOTAL_SQUARES, observed=yeast_counted)\n",
    "\n",
    "    trace = pm.sample(5000, tune=1000)\n",
    "\n",
    "pm.plot_posterior(trace, varnames=['cells/mL'])"
   ]
  }
 ],
 "metadata": {
  "kernelspec": {
   "display_name": "Python 3",
   "language": "python",
   "name": "python3"
  },
  "language_info": {
   "codemirror_mode": {
    "name": "ipython",
    "version": 3
   },
   "file_extension": ".py",
   "mimetype": "text/x-python",
   "name": "python",
   "nbconvert_exporter": "python",
   "pygments_lexer": "ipython3",
   "version": "3.6.8"
  }
 },
 "nbformat": 4,
 "nbformat_minor": 2
}

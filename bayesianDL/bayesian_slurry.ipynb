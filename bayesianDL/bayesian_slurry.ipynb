{
 "cells": [
  {
   "cell_type": "code",
   "execution_count": 1,
   "metadata": {},
   "outputs": [
    {
     "name": "stderr",
     "output_type": "stream",
     "text": [
      "/Users/sergiosoage/anaconda3/envs/bayesianDL/lib/python3.6/site-packages/distributed/config.py:20: YAMLLoadWarning: calling yaml.load() without Loader=... is deprecated, as the default Loader is unsafe. Please read https://msg.pyyaml.org/load for full details.\n",
      "  defaults = yaml.load(f)\n",
      "Multiprocess sampling (2 chains in 2 jobs)\n",
      "CompoundStep\n",
      ">NUTS: [volume of chamber (mL), flask2 to flask3 (mL), flask1 to flask2 (mL), initial yeast slurry volume (mL), flask3 volume (mL), flask2 volume (mL), flask1 volume (mL), cells/mL]\n",
      ">Metropolis: [cells in visible portion]\n",
      "Sampling 2 chains: 100%|██████████| 12000/12000 [00:27<00:00, 429.89draws/s]\n",
      "The number of effective samples is smaller than 10% for some parameters.\n",
      "/Users/sergiosoage/anaconda3/envs/bayesianDL/lib/python3.6/site-packages/pymc3/plots/__init__.py:40: UserWarning: Keyword argument `varnames` renamed to `var_names`, and will be removed in pymc3 3.8\n",
      "  warnings.warn('Keyword argument `{old}` renamed to `{new}`, and will be removed in pymc3 3.8'.format(old=old, new=new))\n"
     ]
    },
    {
     "data": {
      "text/plain": [
       "array([<matplotlib.axes._subplots.AxesSubplot object at 0x1c1f2b1eb8>],\n",
       "      dtype=object)"
      ]
     },
     "execution_count": 1,
     "metadata": {},
     "output_type": "execute_result"
    }
   ],
   "source": [
    "import pymc3 as pm\n",
    "\n",
    "BILLION = 1e9\n",
    "TOTAL_SQUARES = 25\n",
    "\n",
    "squares_counted = 5\n",
    "yeast_counted = 49\n",
    "\n",
    "with pm.Model() as model:\n",
    "    yeast_conc = pm.Normal(\"cells/mL\", mu=2 * BILLION, sd=0.4 * BILLION)\n",
    "\n",
    "    flask1_volume = pm.Normal(\"flask1 volume (mL)\", mu=9.0, sd=0.05)\n",
    "    flask2_volume = pm.Normal(\"flask2 volume (mL)\", mu=9.0, sd=0.05)\n",
    "    flask3_volume = pm.Normal(\"flask3 volume (mL)\", mu=9.0, sd=0.05)\n",
    "\n",
    "    yeast_slurry_volume = pm.Normal(\"initial yeast slurry volume (mL)\", mu=1.0, sd=0.01)\n",
    "    flask1_to_flask2_volume =    pm.Normal(\"flask1 to flask2 (mL)\", mu=1.0, sd=0.01)\n",
    "    flask2_to_flask3_volume =    pm.Normal(\"flask2 to flask3 (mL)\", mu=1.0, sd=0.01)\n",
    "\n",
    "    dilution_flask1 = yeast_slurry_volume       / (yeast_slurry_volume + flask1_volume)\n",
    "    dilution_flask2 = flask1_to_flask2_volume / (flask1_to_flask2_volume + flask2_volume)\n",
    "    dilution_flask3 = flask2_to_flask3_volume / (flask2_to_flask3_volume + flask3_volume)\n",
    "    final_dilution_factor = dilution_flask1 * dilution_flask2 * dilution_flask3\n",
    "\n",
    "    volume_of_chamber = pm.Gamma(\"volume of chamber (mL)\", mu=0.0001, sd=0.0001 / 20)\n",
    "\n",
    "    # why is Poisson justified? in my final flask, I have yeast_conc * final_dilution_factor * flask3_volume number of yeast\n",
    "    # I remove volume_of_chamber / flask3_volume fraction of them, hence it's a binomial with very high count, and very low probability.\n",
    "    yeast_visible = pm.Poisson(\"cells in visible portion\", mu=yeast_conc * final_dilution_factor * volume_of_chamber)\n",
    "\n",
    "    number_of_counted_cells = pm.Binomial(\"number of counted cells\", yeast_visible, squares_counted/TOTAL_SQUARES, observed=yeast_counted)\n",
    "\n",
    "    trace = pm.sample(5000, tune=1000)\n",
    "\n",
    "pm.plot_posterior(trace, varnames=['cells/mL'])"
   ]
  },
  {
   "cell_type": "code",
   "execution_count": 2,
   "metadata": {},
   "outputs": [
    {
     "name": "stderr",
     "output_type": "stream",
     "text": [
      "/Users/sergiosoage/anaconda3/envs/bayesianDL/lib/python3.6/site-packages/pymc3/plots/__init__.py:40: UserWarning: Keyword argument `varnames` renamed to `var_names`, and will be removed in pymc3 3.8\n",
      "  warnings.warn('Keyword argument `{old}` renamed to `{new}`, and will be removed in pymc3 3.8'.format(old=old, new=new))\n"
     ]
    },
    {
     "data": {
      "text/plain": [
       "array([<matplotlib.axes._subplots.AxesSubplot object at 0x1c1fb43c88>],\n",
       "      dtype=object)"
      ]
     },
     "execution_count": 2,
     "metadata": {},
     "output_type": "execute_result"
    },
    {
     "data": {
      "image/png": "[encoded data removed]",
      "text/plain": [
       "<Figure size 432x288 with 1 Axes>"
      ]
     },
     "metadata": {
      "needs_background": "light"
     },
     "output_type": "display_data"
    }
   ],
   "source": [
    "pm.plot_posterior(trace, varnames=['cells/mL'])"
   ]
  },
  {
   "cell_type": "markdown",
   "metadata": {},
   "source": [
    "Experiment 2 growth over time"
   ]
  },
  {
   "cell_type": "code",
   "execution_count": 4,
   "metadata": {},
   "outputs": [
    {
     "name": "stderr",
     "output_type": "stream",
     "text": [
      "Multiprocess sampling (2 chains in 2 jobs)\n",
      "CompoundStep\n",
      ">NUTS: [volume of chamber (mL), flask1 to flask2 (mL), initial yeast slurry volume (mL), flask2 volume (mL), flask1 volume (mL), delta_t, r, P0, K]\n",
      ">Metropolis: [cells in visible portion]\n",
      "Sampling 2 chains: 100%|██████████| 44000/44000 [03:42<00:00, 198.10draws/s]\n",
      "The gelman-rubin statistic is larger than 1.05 for some parameters. This indicates slight problems during sampling.\n",
      "The estimated number of effective samples is smaller than 200 for some parameters.\n"
     ]
    }
   ],
   "source": [
    "import pymc3 as pm\n",
    "import numpy as np\n",
    "\n",
    "MILLION = 1e6\n",
    "TOTAL_SQUARES = 25\n",
    "SQUARES_COUNTED = 4\n",
    "\n",
    "yeast_counted =    np.array([20, 21,   28,   34, 34,   31,   32, 32])\n",
    "hours_since_inoc = np.array([0,  12.5, 17.5, 23, 36.5, 42.5, 48, 65])\n",
    "n_obs = yeast_counted.shape[0]\n",
    "\n",
    "\n",
    "def logistic(t, K, r, delta_t):\n",
    "    return K / (1 + np.exp(-r * (t - delta_t)))\n",
    "\n",
    "\n",
    "with pm.Model() as model:\n",
    "\n",
    "    K = pm.Normal(\"K\", mu=50 * MILLION, sd=25 * MILLION) # about 50% growth was expected\n",
    "    P0 = pm.Normal(\"P0\", mu=100 * MILLION, sd=25 * MILLION)\n",
    "    r = pm.Exponential(\"r\", lam=2.5)\n",
    "    delta_t = pm.Uniform(\"delta_t\", lower=0, upper=24) # lag phase stops in the first 24 hours\n",
    "\n",
    "    yeast_conc = P0 + logistic(hours_since_inoc, K, r, delta_t)\n",
    "\n",
    "    flask1_volume = pm.Normal(\"flask1 volume (mL)\", mu=9.0, sigma=0.05, shape=n_obs)\n",
    "    flask2_volume = pm.Normal(\"flask2 volume (mL)\", mu=9.0, sigma=0.05, shape=n_obs)\n",
    "\n",
    "    yeast_slurry_volume = pm.Normal(\"initial yeast slurry volume (mL)\", mu=1.0, sigma=0.01, shape=n_obs)\n",
    "    flask1_to_flask2_volume =    pm.Normal(\"flask1 to flask2 (mL)\", mu=1.0, sigma=0.01, shape=n_obs)\n",
    "\n",
    "    dilution_flask1 = pm.Deterministic(\"dilution_flask1\", yeast_slurry_volume  / (yeast_slurry_volume + flask1_volume))\n",
    "    final_dilution_factor = pm.Deterministic(\"dilution_flask2\", dilution_flask1 * flask1_to_flask2_volume / (flask1_to_flask2_volume + flask2_volume))\n",
    "\n",
    "    volume_of_chamber = pm.Gamma(\"volume of chamber (mL)\", mu=0.0001, sd=0.0001 / 20)\n",
    "\n",
    "    # why is Poisson justified? in my final flask, I have yeast_conc * final_dilution_factor * flask2_volume number of yeast\n",
    "    # I remove volume_of_chamber / flask2_volume fraction of them, hence it's a binomial with very high count, and very low probability.\n",
    "    yeast_visible = pm.Poisson(\"cells in visible portion\", mu=yeast_conc * final_dilution_factor * volume_of_chamber, shape=n_obs)\n",
    "\n",
    "    number_of_counted_cells = pm.Binomial(\"number of counted cells\", yeast_visible, SQUARES_COUNTED/TOTAL_SQUARES, observed=yeast_counted, shape=n_obs)\n",
    "\n",
    "    trace = pm.sample(2000, tune=20000)"
   ]
  }
 ],
 "metadata": {
  "kernelspec": {
   "display_name": "Python 3",
   "language": "python",
   "name": "python3"
  },
  "language_info": {
   "codemirror_mode": {
    "name": "ipython",
    "version": 3
   },
   "file_extension": ".py",
   "mimetype": "text/x-python",
   "name": "python",
   "nbconvert_exporter": "python",
   "pygments_lexer": "ipython3",
   "version": "3.6.8"
  }
 },
 "nbformat": 4,
 "nbformat_minor": 2
}
